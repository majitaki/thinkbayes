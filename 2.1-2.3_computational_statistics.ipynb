{
 "cells": [
  {
   "cell_type": "markdown",
   "metadata": {},
   "source": [
    "# 2 Computational Statistics\n",
    "\n",
    "## ベイズの定理\n",
    "\n",
    "$$ p(H|D) = \\dfrac{p(H)p(D|H)}{p(D)} $$"
   ]
  },
  {
   "cell_type": "markdown",
   "metadata": {},
   "source": [
    "いつものライブラリ"
   ]
  },
  {
   "cell_type": "code",
   "execution_count": 108,
   "metadata": {
    "collapsed": true
   },
   "outputs": [],
   "source": [
    "import pandas as pd\n",
    "import seaborn as sns\n",
    "sns.set_style(\"whitegrid\")\n",
    "import matplotlib.ticker as ticker\n",
    "import matplotlib.pyplot as plt\n",
    "%matplotlib inline"
   ]
  },
  {
   "cell_type": "markdown",
   "metadata": {},
   "source": [
    "# 2.1 分布"
   ]
  },
  {
   "cell_type": "code",
   "execution_count": 168,
   "metadata": {},
   "outputs": [],
   "source": [
    "class Pmf():\n",
    "    \n",
    "    \"\"\"Probability Mass Function（確率質量関数）\"\"\"\n",
    "    \n",
    "    def __init__(self):\n",
    "        self.hypos = []\n",
    "        self.priors = {}\n",
    "        self.priors_given_likelihoods = {}\n",
    "        self.posteriors = {}\n",
    "    \n",
    "    def Set(self, x, prob):\n",
    "        self.hypos.append(x)\n",
    "        self.priors[x] = prob\n",
    "    \n",
    "    def Values(self):\n",
    "        return self.hypos\n",
    "\n",
    "    def Incr(self, x, i):\n",
    "        self.priors[x] = self.priors[x] + 1\n",
    "        \n",
    "    def Mult(self, x, likelihood):\n",
    "        self.priors_given_likelihoods[x] = self.priors[x] * likelihood\n",
    "        \n",
    "    def Normalize(self):\n",
    "        for x in self.priors_given_likelihoods.keys():\n",
    "            self.posteriors[x] = self.priors_given_likelihoods[x] / (sum(self.priors_given_likelihoods.values()))\n",
    "\n",
    "    def Items(self):\n",
    "        return self.posteriors.items()\n",
    "            \n",
    "    def Prob(self, x):\n",
    "        return self.posteriors[x]"
   ]
  },
  {
   "cell_type": "markdown",
   "metadata": {},
   "source": [
    "# 2.2 クッキー問題"
   ]
  },
  {
   "cell_type": "code",
   "execution_count": 169,
   "metadata": {},
   "outputs": [
    {
     "name": "stdout",
     "output_type": "stream",
     "text": [
      "{'Bowl 1': 0.5, 'Bowl 2': 0.5}\n",
      "{'Bowl 1': 0.6, 'Bowl 2': 0.4}\n",
      "0.6\n"
     ]
    }
   ],
   "source": [
    "pmf = Pmf()\n",
    "pmf.Set(\"Bowl 1\", 0.5)\n",
    "pmf.Set(\"Bowl 2\", 0.5)\n",
    "print(pmf.priors)\n",
    "\n",
    "pmf.Mult(\"Bowl 1\", 0.75)\n",
    "pmf.Mult(\"Bowl 2\", 0.5)\n",
    "\n",
    "pmf.Normalize()\n",
    "\n",
    "print(pmf.posteriors)\n",
    "\n",
    "print(pmf.Prob(\"Bowl 1\"))"
   ]
  },
  {
   "cell_type": "markdown",
   "metadata": {},
   "source": [
    "# 2.3 ベイジアンフレームワーク"
   ]
  },
  {
   "cell_type": "code",
   "execution_count": 170,
   "metadata": {},
   "outputs": [],
   "source": [
    "class Cookie(Pmf):\n",
    "    \n",
    "    def __init__(self, hypos):\n",
    "        Pmf.__init__(self) # TODO ここの書き方がよくわからない。Mix-inみたいなの？\n",
    "        for hypo in hypos:\n",
    "            self.Set(hypo, 1)\n",
    "        self.Normalize()\n",
    "        \n",
    "    def Likelihood(self, data, hypo):\n",
    "        \n",
    "        mixes = {\n",
    "            \"Bowl 1\": {\"vanilla\": 0.75, \"chocolate\": 0.25},\n",
    "            \"Bowl 2\": {\"vanilla\": 0.5, \"chocolate\": 0.5}\n",
    "        }\n",
    "        \n",
    "        self.mixes = mixes\n",
    "        \n",
    "        mix = self.mixes[hypo]\n",
    "        like = mix[data]\n",
    "        return like\n",
    "        \n",
    "    def Update(self, data):\n",
    "        for hypo in self.Values():\n",
    "            like = self.Likelihood(data, hypo)\n",
    "            self.Mult(hypo, like)\n",
    "        self.Normalize()"
   ]
  },
  {
   "cell_type": "code",
   "execution_count": 171,
   "metadata": {},
   "outputs": [],
   "source": [
    "hypos = [\"Bowl 1\", \"Bowl 2\"]\n",
    "pmf = Cookie(hypos)"
   ]
  },
  {
   "cell_type": "code",
   "execution_count": 172,
   "metadata": {},
   "outputs": [],
   "source": [
    "pmf.Update(\"vanilla\")"
   ]
  },
  {
   "cell_type": "code",
   "execution_count": 175,
   "metadata": {},
   "outputs": [
    {
     "name": "stdout",
     "output_type": "stream",
     "text": [
      "Bowl 1: 0.6\n",
      "Bowl 2: 0.4\n"
     ]
    }
   ],
   "source": [
    "for hypo, prob in pmf.Items():\n",
    "    print(\"{}: {}\".format(hypo, prob))"
   ]
  },
  {
   "cell_type": "code",
   "execution_count": null,
   "metadata": {
    "collapsed": true
   },
   "outputs": [],
   "source": []
  }
 ],
 "metadata": {
  "kernelspec": {
   "display_name": "Python 3",
   "language": "python",
   "name": "python3"
  },
  "language_info": {
   "codemirror_mode": {
    "name": "ipython",
    "version": 3
   },
   "file_extension": ".py",
   "mimetype": "text/x-python",
   "name": "python",
   "nbconvert_exporter": "python",
   "pygments_lexer": "ipython3",
   "version": "3.6.2"
  }
 },
 "nbformat": 4,
 "nbformat_minor": 2
}
