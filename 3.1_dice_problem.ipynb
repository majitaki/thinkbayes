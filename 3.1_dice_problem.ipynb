{
 "cells": [
  {
   "cell_type": "code",
   "execution_count": null,
   "metadata": {
    "collapsed": true
   },
   "outputs": [],
   "source": []
  },
  {
   "cell_type": "code",
   "execution_count": null,
   "metadata": {
    "collapsed": true
   },
   "outputs": [],
   "source": []
  },
  {
   "cell_type": "code",
   "execution_count": 71,
   "metadata": {
    "collapsed": true
   },
   "outputs": [],
   "source": [
    "class Pmf():\n",
    "    \n",
    "    \"\"\"Probability Mass Function（確率質量関数）\"\"\"\n",
    "    \n",
    "    def __init__(self):\n",
    "        self.hypos = []\n",
    "        self.priors = {}\n",
    "        self.priors_given_likelihoods = {}\n",
    "        self.posteriors = {}\n",
    "    \n",
    "    def Set(self, x, prob):\n",
    "        self.hypos.append(x)\n",
    "        self.priors[x] = prob\n",
    "    \n",
    "    def Values(self):\n",
    "        return self.hypos\n",
    "\n",
    "    def Incr(self, x, i):\n",
    "        self.priors[x] = self.priors[x] + 1\n",
    "        \n",
    "    def Mult(self, x, likelihood):\n",
    "        self.priors_given_likelihoods[x] = self.priors[x] * likelihood\n",
    "        \n",
    "    def Normalize(self):\n",
    "        for x in self.priors_given_likelihoods.keys():\n",
    "            self.posteriors[x] = self.priors_given_likelihoods[x] / (sum(self.priors_given_likelihoods.values()))\n",
    "            self.priors[x] = self.posteriors[x] # TODO 正規化後は、事後分布が次の事前分布になる\n",
    "\n",
    "    def Items(self):\n",
    "        return self.posteriors.items()\n",
    "            \n",
    "    def Prob(self, x):\n",
    "        return self.posteriors[x]"
   ]
  },
  {
   "cell_type": "code",
   "execution_count": 72,
   "metadata": {
    "collapsed": true
   },
   "outputs": [],
   "source": [
    "class Suite(Pmf):\n",
    "    \n",
    "    def __init__(self, hypos):\n",
    "        Pmf.__init__(self) # TODO ここの書き方がよくわからない。Mix-inみたいなの？\n",
    "        for hypo in hypos:\n",
    "            self.Set(hypo, 1)\n",
    "        self.Normalize()\n",
    "        \n",
    "    def Likelihood(self, data, hypo):\n",
    "        raise UnimplementedMethodException()\n",
    "        \n",
    "    def Update(self, data):\n",
    "        for hypo in self.Values():\n",
    "            like = self.Likelihood(data, hypo)\n",
    "            self.Mult(hypo, like)\n",
    "        self.Normalize()\n",
    "        \n",
    "    def Print(self):\n",
    "        \"\"\"Prints the hypotheses and their probabilities.\"\"\"\n",
    "        for hypo, prob in sorted(self.Items()):\n",
    "             print(\"{}: {}\".format(hypo, prob))"
   ]
  },
  {
   "cell_type": "code",
   "execution_count": 73,
   "metadata": {
    "collapsed": true
   },
   "outputs": [],
   "source": [
    "class Dice(Suite):\n",
    "    def Likelihood(self, data, hypo):\n",
    "        if hypo < data:\n",
    "            return 0\n",
    "        else:\n",
    "            return 1.0 / hypo"
   ]
  },
  {
   "cell_type": "code",
   "execution_count": 74,
   "metadata": {},
   "outputs": [
    {
     "name": "stdout",
     "output_type": "stream",
     "text": [
      "After one 6\n",
      "4: 0.0\n",
      "6: 0.3921568627450981\n",
      "8: 0.2941176470588236\n",
      "12: 0.19607843137254904\n",
      "20: 0.11764705882352944\n",
      "\n",
      "After more rolls\n",
      "4: 0.0\n",
      "6: 0.0\n",
      "8: 0.9432484536722127\n",
      "12: 0.055206128061290875\n",
      "20: 0.0015454182664965536\n"
     ]
    }
   ],
   "source": [
    "suite = Dice([4, 6, 8, 12, 20])\n",
    "\n",
    "suite.priors\n",
    "\n",
    "suite.Update(6)\n",
    "print('After one 6')\n",
    "suite.Print()\n",
    "\n",
    "for roll in [6, 8, 7, 7, 5, 4]:\n",
    "    suite.Update(roll)\n",
    "\n",
    "print(\"\")\n",
    "print('After more rolls')\n",
    "suite.Print()"
   ]
  },
  {
   "cell_type": "code",
   "execution_count": null,
   "metadata": {
    "collapsed": true
   },
   "outputs": [],
   "source": []
  }
 ],
 "metadata": {
  "kernelspec": {
   "display_name": "Python 3",
   "language": "python",
   "name": "python3"
  },
  "language_info": {
   "codemirror_mode": {
    "name": "ipython",
    "version": 3
   },
   "file_extension": ".py",
   "mimetype": "text/x-python",
   "name": "python",
   "nbconvert_exporter": "python",
   "pygments_lexer": "ipython3",
   "version": "3.6.2"
  }
 },
 "nbformat": 4,
 "nbformat_minor": 2
}
