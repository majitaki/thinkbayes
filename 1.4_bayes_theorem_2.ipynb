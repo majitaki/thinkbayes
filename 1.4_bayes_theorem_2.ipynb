{
 "cells": [
  {
   "cell_type": "markdown",
   "metadata": {},
   "source": [
    "# サンプリングして確率を求める"
   ]
  },
  {
   "cell_type": "code",
   "execution_count": 118,
   "metadata": {
    "collapsed": true
   },
   "outputs": [],
   "source": [
    "# ランダムにサンプリングする共通関数\n",
    "def random_sampling(hidden = [], trial_count = 100):\n",
    "    import random\n",
    "    samples = []\n",
    "    for i in range(trial_count):\n",
    "        random.shuffle(hidden)\n",
    "        sample = hidden[0]\n",
    "        samples.append(sample)\n",
    "    return samples"
   ]
  },
  {
   "cell_type": "markdown",
   "metadata": {},
   "source": [
    "# p(ボウル1)\n",
    "\n",
    "$$p(ボウル1) = [2つのボウルからボウル1が選ばれる確率] = 1/2$$"
   ]
  },
  {
   "cell_type": "code",
   "execution_count": 119,
   "metadata": {
    "collapsed": true
   },
   "outputs": [],
   "source": [
    "bowls = [1, 2]"
   ]
  },
  {
   "cell_type": "code",
   "execution_count": 161,
   "metadata": {},
   "outputs": [],
   "source": [
    "bowl_samples = random_sampling(bowls, 1000)"
   ]
  },
  {
   "cell_type": "code",
   "execution_count": 162,
   "metadata": {},
   "outputs": [
    {
     "data": {
      "text/plain": [
       "0.502"
      ]
     },
     "execution_count": 162,
     "metadata": {},
     "output_type": "execute_result"
    }
   ],
   "source": [
    "p_bowl1 = len([x for x in bowl_samples if x == 1]) / len(bowl_samples)\n",
    "p_bowl1"
   ]
  },
  {
   "cell_type": "markdown",
   "metadata": {},
   "source": [
    "# p(バニラ | ボウル1)\n",
    "\n",
    "$$p(バニラ | ボウル1) = [ボウル1のバニラの数] / [ボウル1のクッキーの数]　= 30 / 40 = 3/4 $$"
   ]
  },
  {
   "cell_type": "code",
   "execution_count": 169,
   "metadata": {},
   "outputs": [
    {
     "data": {
      "text/plain": [
       "40"
      ]
     },
     "execution_count": 169,
     "metadata": {},
     "output_type": "execute_result"
    }
   ],
   "source": [
    "cookies_in_bowl1 = []\n",
    "[cookies_in_bowl1.append(\"v\") for x in range(30)] # バニラ\n",
    "[cookies_in_bowl1.append(\"c\") for x in range(10)] # チョコ\n",
    "len(cookies_in_bowl1)"
   ]
  },
  {
   "cell_type": "code",
   "execution_count": 170,
   "metadata": {
    "collapsed": true
   },
   "outputs": [],
   "source": [
    "bowl1_samples = random_sampling(cookies_in_bowl1, 1000)"
   ]
  },
  {
   "cell_type": "code",
   "execution_count": 171,
   "metadata": {},
   "outputs": [
    {
     "data": {
      "text/plain": [
       "0.756"
      ]
     },
     "execution_count": 171,
     "metadata": {},
     "output_type": "execute_result"
    }
   ],
   "source": [
    "p_bowl1_v = len([x for x in bowl1_samples if x == \"v\"]) / len(bowl1_samples)\n",
    "p_bowl1_v"
   ]
  },
  {
   "cell_type": "markdown",
   "metadata": {},
   "source": [
    "# p(バニラ)\n",
    "\n",
    "$$p(バニラ) = [全てのバニラの数] / [全てのクッキーの数] = (30 + 20) / (40 + 40) = 50/80 = 5/8 $$"
   ]
  },
  {
   "cell_type": "code",
   "execution_count": 172,
   "metadata": {},
   "outputs": [
    {
     "data": {
      "text/plain": [
       "40"
      ]
     },
     "execution_count": 172,
     "metadata": {},
     "output_type": "execute_result"
    }
   ],
   "source": [
    "cookies_in_bowl2 = []\n",
    "[cookies_in_bowl2.append(\"v\") for x in range(20)] # バニラ\n",
    "[cookies_in_bowl2.append(\"c\") for x in range(20)] # チョコ\n",
    "len(cookies_in_bowl2)"
   ]
  },
  {
   "cell_type": "code",
   "execution_count": 173,
   "metadata": {
    "collapsed": true
   },
   "outputs": [],
   "source": [
    "cookies_in_bowls = cookies_in_bowl1 + cookies_in_bowl2"
   ]
  },
  {
   "cell_type": "code",
   "execution_count": 174,
   "metadata": {},
   "outputs": [
    {
     "data": {
      "text/plain": [
       "80"
      ]
     },
     "execution_count": 174,
     "metadata": {},
     "output_type": "execute_result"
    }
   ],
   "source": [
    "len(cookies_in_bowls)"
   ]
  },
  {
   "cell_type": "code",
   "execution_count": 175,
   "metadata": {
    "collapsed": true
   },
   "outputs": [],
   "source": [
    "bowls_samples = random_sampling(cookies_in_bowls, 1000)"
   ]
  },
  {
   "cell_type": "code",
   "execution_count": 176,
   "metadata": {},
   "outputs": [
    {
     "data": {
      "text/plain": [
       "0.622"
      ]
     },
     "execution_count": 176,
     "metadata": {},
     "output_type": "execute_result"
    }
   ],
   "source": [
    "p_v = len([x for x in bowls_samples if x == \"v\"]) / len(bowls_samples)\n",
    "p_v"
   ]
  },
  {
   "cell_type": "markdown",
   "metadata": {},
   "source": [
    "# p(ボウル1|バニラ)\n",
    "\n",
    "$$p(ボウル1|バニラ) = \\dfrac{(1/2) \\times (3/4)}{5/8} = 3/5$$"
   ]
  },
  {
   "cell_type": "code",
   "execution_count": null,
   "metadata": {
    "collapsed": true
   },
   "outputs": [],
   "source": [
    "# TODO"
   ]
  }
 ],
 "metadata": {
  "kernelspec": {
   "display_name": "Python 3",
   "language": "python",
   "name": "python3"
  },
  "language_info": {
   "codemirror_mode": {
    "name": "ipython",
    "version": 3
   },
   "file_extension": ".py",
   "mimetype": "text/x-python",
   "name": "python",
   "nbconvert_exporter": "python",
   "pygments_lexer": "ipython3",
   "version": "3.6.2"
  }
 },
 "nbformat": 4,
 "nbformat_minor": 2
}
